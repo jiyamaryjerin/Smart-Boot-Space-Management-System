{
 "cells": [
  {
   "cell_type": "code",
   "execution_count": 1,
   "id": "bd3a166d-d8ab-4d1c-8371-5aa87d905cc9",
   "metadata": {},
   "outputs": [
    {
     "name": "stdout",
     "output_type": "stream",
     "text": [
      "55.95759963989258 cm\n",
      "81.1317138671875 cm\n"
     ]
    },
    {
     "name": "stderr",
     "output_type": "stream",
     "text": [
      "C:\\Users\\rbpav\\AppData\\Local\\Temp\\ipykernel_28744\\2015784174.py:14: DeprecationWarning: `np.int0` is a deprecated alias for `np.intp`.  (Deprecated NumPy 1.24)\n",
      "  box=np.int0(box)\n"
     ]
    },
    {
     "data": {
      "text/plain": [
       "-1"
      ]
     },
     "execution_count": 1,
     "metadata": {},
     "output_type": "execute_result"
    }
   ],
   "source": [
    "#img 1\n",
    "import cv2\n",
    "import numpy as np\n",
    "from object_detector import *\n",
    "img=cv2.imread(\"C:/Users/rbpav/OneDrive/Desktop/hackathon/at1.png\")\n",
    "detector=HomogeneousBgDetector()\n",
    "contours= detector.detect_objects(img)\n",
    "for cnt in contours:\n",
    "    rect=cv2.minAreaRect(cnt)\n",
    "    (x,y),(w,h),angle=rect\n",
    "    print(w/4,\"cm\")\n",
    "    print(h/4,\"cm\")\n",
    "    box=cv2.boxPoints(rect)\n",
    "    box=np.int0(box) \n",
    "    background = np.full((300,600,3), 0, dtype=np.uint8)\n",
    "    cv2.circle(img,(int(x),int(y)),5,(0,0,255),-1)\n",
    "    cv2.polylines(img, [box],True,(255,0,0),2)\n",
    "    x1,y1,w1,h1 = x-50,y-15,175,75\n",
    "    cv2.putText(img,\"Width{} cm\".format(w/4,1),(int(x-50),int(y-15)),cv2.FONT_HERSHEY_PLAIN,1,(0,0,0),2)\n",
    "    cv2.putText(img,\"Height{}cm\".format(round(h/4,1)),(int(x-50),int(y+15)),cv2.FONT_HERSHEY_PLAIN,1,(0,0,0),2)\n",
    "cv2.imshow(\"image\",img)\n",
    "cv2.waitKey(0)"
   ]
  },
  {
   "cell_type": "code",
   "execution_count": 2,
   "id": "b1d662f6-67fc-4788-9da5-d6b9cf3da795",
   "metadata": {},
   "outputs": [
    {
     "name": "stdout",
     "output_type": "stream",
     "text": [
      "164.04690551757812 cm\n"
     ]
    },
    {
     "name": "stderr",
     "output_type": "stream",
     "text": [
      "C:\\Users\\rbpav\\AppData\\Local\\Temp\\ipykernel_28744\\549441192.py:13: DeprecationWarning: `np.int0` is a deprecated alias for `np.intp`.  (Deprecated NumPy 1.24)\n",
      "  box=np.int0(box)\n"
     ]
    },
    {
     "data": {
      "text/plain": [
       "-1"
      ]
     },
     "execution_count": 2,
     "metadata": {},
     "output_type": "execute_result"
    }
   ],
   "source": [
    "#pic 2\n",
    "import cv2\n",
    "import numpy as np\n",
    "from object_detector import *\n",
    "img1=cv2.imread(\"C:/Users/rbpav/OneDrive/Desktop/hackathon/bagg2.jpg\")\n",
    "detector=HomogeneousBgDetector()\n",
    "contours= detector.detect_objects(img1)\n",
    "for cnt in contours:\n",
    "    rect=cv2.minAreaRect(cnt)\n",
    "    (x,y),(d,h),angle=rect\n",
    "    print(d/4,\"cm\")\n",
    "    box=cv2.boxPoints(rect)\n",
    "    box=np.int0(box) \n",
    "    background = np.full((300,600,3), 0, dtype=np.uint8)\n",
    "    cv2.circle(img,(int(x),int(y)),5,(0,0,255),-1)\n",
    "    cv2.polylines(img1, [box],True,(255,0,0),2)\n",
    "    x1,y1,w1,h1 = x-50,y-15,175,75\n",
    "    cv2.putText(img1,\"Depth{} cm\".format(d/4,1),(int(x-50),int(y-15)),cv2.FONT_HERSHEY_PLAIN,1,(0,0,0),2)\n",
    "    #cv2.putText(img1,\"Height{}cm\".format(round(h/0.025,1)),(int(x-50),int(y+15)),cv2.FONT_HERSHEY_PLAIN,1,(255, 255, 255),2)\n",
    "cv2.imshow(\"image\",img1)\n",
    "cv2.waitKey(0)"
   ]
  },
  {
   "cell_type": "code",
   "execution_count": 3,
   "id": "c815892c-b938-4555-9059-36008325afb2",
   "metadata": {},
   "outputs": [
    {
     "name": "stdout",
     "output_type": "stream",
     "text": [
      "width 78.27299499511719 cm\n",
      "height 15.589155197143555 cm\n",
      "width 5.862744331359863 cm\n",
      "height 99.25479125976562 cm\n",
      "width 123.24048614501953 cm\n",
      "height 18.657712936401367 cm\n",
      "width 113.10212707519531 cm\n",
      "height 25.297792434692383 cm\n",
      "width 43.258602142333984 cm\n",
      "height 120.8941421508789 cm\n",
      "width 92.48346710205078 cm\n",
      "height 6.7325639724731445 cm\n",
      "width 104.04685974121094 cm\n",
      "height 19.466047286987305 cm\n",
      "width 38.01610565185547 cm\n",
      "height 122.50408935546875 cm\n",
      "width 20.294281005859375 cm\n",
      "height 80.0105972290039 cm\n",
      "width 87.75 cm\n",
      "height 129.75 cm\n",
      "width 81.3109359741211 cm\n",
      "height 19.790904998779297 cm\n",
      "Est Height: 25.297792434692383\n",
      "Est Width= 123.24048614501953\n"
     ]
    },
    {
     "name": "stderr",
     "output_type": "stream",
     "text": [
      "C:\\Users\\rbpav\\AppData\\Local\\Temp\\ipykernel_28744\\1686512213.py:19: DeprecationWarning: `np.int0` is a deprecated alias for `np.intp`.  (Deprecated NumPy 1.24)\n",
      "  box=np.int0(box)\n"
     ]
    },
    {
     "data": {
      "text/plain": [
       "-1"
      ]
     },
     "execution_count": 3,
     "metadata": {},
     "output_type": "execute_result"
    }
   ],
   "source": [
    "##### boot space\n",
    "#img 1\n",
    "import statistics\n",
    "import cv2\n",
    "import numpy as np\n",
    "from object_detector import *\n",
    "height_l=[]\n",
    "width_l=[]\n",
    "image=cv2.imread(\"C:/Users/rbpav/OneDrive/Desktop/hackathon/i10_boot.jpeg\")\n",
    "img = cv2.resize(image, (640, 480))\n",
    "detector=HomogeneousBgDetector()\n",
    "contours= detector.detect_objects(img)\n",
    "for cnt in contours:\n",
    "    rect=cv2.minAreaRect(cnt)\n",
    "    (x,y),(w,h),angle=rect\n",
    "    print(\"width\",w/4,\"cm\")\n",
    "    print(\"height\",h/4,\"cm\")\n",
    "    box=cv2.boxPoints(rect)\n",
    "    box=np.int0(box) \n",
    "    background = np.full((300,600,3), 0, dtype=np.uint8)\n",
    "    cv2.circle(img,(int(x),int(y)),5,(0,0,255),-1)\n",
    "    cv2.polylines(img, [box],True,(255,0,0),2)\n",
    "    x1,y1,w1,h1 = x-50,y-15,175,75\n",
    "    cv2.putText(img,\"Width{} cm\".format(w/4,1),(int(x-50),int(y-15)),cv2.FONT_HERSHEY_PLAIN,1,(0,0,0),2)\n",
    "    cv2.putText(img,\"Height{}cm\".format(round(h/4,1)),(int(x-50),int(y+15)),cv2.FONT_HERSHEY_PLAIN,1,(0,0,0),2)\n",
    "    height_l.append((h/4))\n",
    "    width_l.append((w/4))\n",
    "# Calculate the median of the list\n",
    "median = statistics.median(height_l)\n",
    "\n",
    "# Print the median\n",
    "print(\"Est Height:\", median)\n",
    "\n",
    "#print(\"LIST \", height_l)\n",
    "#print((height_l[-1]-height_l[-2])*60)\n",
    "#print(\"LIST \", width_l)\n",
    "print(\"Est Width=\",max(width_l))\n",
    "cv2.imshow(\"image\",img)\n",
    "cv2.waitKey(0)"
   ]
  },
  {
   "cell_type": "code",
   "execution_count": null,
   "id": "40e80b7b-1a1e-458f-badb-320b5d86eea2",
   "metadata": {},
   "outputs": [],
   "source": []
  }
 ],
 "metadata": {
  "kernelspec": {
   "display_name": "Python 3 (ipykernel)",
   "language": "python",
   "name": "python3"
  },
  "language_info": {
   "codemirror_mode": {
    "name": "ipython",
    "version": 3
   },
   "file_extension": ".py",
   "mimetype": "text/x-python",
   "name": "python",
   "nbconvert_exporter": "python",
   "pygments_lexer": "ipython3",
   "version": "3.10.9"
  }
 },
 "nbformat": 4,
 "nbformat_minor": 5
}
